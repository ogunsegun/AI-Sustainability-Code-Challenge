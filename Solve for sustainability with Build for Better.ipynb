{
 "cells": [
  {
   "cell_type": "markdown",
   "id": "f76854ad",
   "metadata": {},
   "source": [
    "# Energy-Efficient Buildings "
   ]
  },
  {
   "cell_type": "markdown",
   "id": "4805eccb",
   "metadata": {},
   "source": [
    "Utilize technologies such as smart sensors, IoT devices, and building automation systems to optimize energy usage in residential, commercial, and industrial buildings, reducing energy consumption and carbon emissions.\n",
    "\n",
    "**How can Energy-Efficient Buildings reduce energy consumption and carbon and how can it be use in a AI or Machine Leaning?**"
   ]
  },
  {
   "cell_type": "markdown",
   "id": "0437d38d",
   "metadata": {},
   "source": [
    "*Energy-Efficient Buildings can reduce energy consumption and carbon emissions through various measures such as:*\n",
    "\n",
    "Optimized Heating, Ventilation, and Air Conditioning (HVAC) Systems: Energy-efficient HVAC systems regulate indoor temperature and air quality more efficiently, reducing energy usage and carbon emissions associated with heating and cooling.\n",
    "\n",
    "\n",
    "Smart Lighting Systems: Automated lighting systems with occupancy sensors and daylight harvesting capabilities adjust lighting levels based on natural light availability and occupancy, minimizing unnecessary energy usage.\n",
    "\n",
    "\n",
    "Building Envelope Improvements: Enhancements such as better insulation, high-performance windows, and reflective roofing materials reduce heat transfer, improving thermal comfort and reducing the need for heating and cooling energy.\n",
    "\n",
    "\n",
    "Energy-Efficient Appliances and Equipment: Installing energy-efficient appliances, such as ENERGY STAR-rated refrigerators and washing machines, and using high-efficiency office equipment and electronics can significantly reduce energy consumption.\n",
    "\n",
    "\n",
    "Building Automation and Controls: Utilizing building automation systems to optimize energy usage by coordinating HVAC, lighting, and other building systems based on occupancy patterns, time of day, and external conditions."
   ]
  },
  {
   "cell_type": "markdown",
   "id": "123b8269",
   "metadata": {},
   "source": [
    "*AI and machine learning can further enhance the energy efficiency of buildings by:*\n",
    "\n",
    "Predictive Maintenance: AI algorithms can analyze data from building systems to predict equipment failures and schedule maintenance proactively, ensuring optimal performance and energy efficiency.\n",
    "\n",
    "\n",
    "Occupancy Prediction: Machine learning models can analyze historical occupancy data, weather forecasts, and other factors to predict future occupancy patterns, allowing building systems to adjust accordingly and optimize energy usage.\n",
    "\n",
    "\n",
    "Optimized Energy Management: AI-based energy management systems can continuously analyze energy consumption data and dynamically adjust building systems to minimize energy waste while maintaining occupant comfort.\n",
    "\n",
    "\n",
    "Fault Detection and Diagnostics: Machine learning algorithms can detect anomalies in building performance data, such as unexpected energy spikes or inefficient equipment operation, enabling early detection and resolution of issues that impact energy efficiency.\n",
    "\n",
    "\n",
    "Personalized Comfort Settings: AI-driven building automation systems can learn occupants' preferences for temperature, lighting, and other environmental factors and adjust settings accordingly to optimize comfort and energy efficiency."
   ]
  },
  {
   "cell_type": "markdown",
   "id": "05c0d94e",
   "metadata": {},
   "source": [
    "# DATA Abstract\n",
    "\n",
    "This dataset was curated from an office building constructed in 2015 in Berkeley, California, which includes whole-building and end-use energy consumption, HVAC system operating conditions, indoor and outdoor environmental parameters, and occupant counts. \n",
    "The data was collected in three years from more than 300 sensors and meters for two office floors (each 2,325 m2) of the building. A three-step data curation strategy is applied to transform the raw data into the research-grade data: (1) cleaning the raw data to detect and adjust the outlier values and fill the data gaps; (2) creating the metadata model of the building systems and data points using the Brick schema; \n",
    "(3) describing the metadata of the dataset using a semantic JSON schema. This dataset can be used for various types of applications, including building energy benchmarking, load shape analysis, energy prediction, occupancy prediction and analytics, and HVAC controls to improve understanding and efficiency of building operations for reducing energy use, energy costs, and carbon emissions.\n",
    "\n",
    "# DATA Methods\n",
    "This dataset includes data of whole-building and end-use energy consumption, HVAC system operating conditions, indoor and outdoor environmental parameters, and occupant counts. The data was collected in three years from more than 300 sensors and meters for two office floors of the building. \n",
    "A three-step data curation strategy is applied to transform the raw data into the research-grade data: (1) cleaning the raw data to detect and adjust the outlier values and fill the data gaps; (2) creating the metadata model of the building systems and data points using the Brick schema; (3) describing the metadata of the dataset using a semantic JSON schema."
   ]
  },
  {
   "cell_type": "markdown",
   "id": "f5d399e7",
   "metadata": {},
   "source": [
    "# DATA SOURCE\n",
    "\n",
    "Hong, Tianzhen; Luo, Na; Blum, David; Wang, Zhe (2022). A three-year building operational performance dataset for informing energy efficiency [Dataset]. Dryad. https://doi.org/10.7941/D1N33Q"
   ]
  },
  {
   "cell_type": "markdown",
   "id": "c8964444",
   "metadata": {},
   "source": [
    "# CODE"
   ]
  },
  {
   "cell_type": "code",
   "execution_count": 2,
   "id": "2579bc78",
   "metadata": {},
   "outputs": [],
   "source": [
    "import pandas as pd\n",
    "from sklearn.ensemble import RandomForestRegressor\n",
    "from sklearn.model_selection import train_test_split\n",
    "from sklearn.metrics import mean_squared_error"
   ]
  },
  {
   "cell_type": "code",
   "execution_count": 5,
   "id": "82cc3f95",
   "metadata": {},
   "outputs": [],
   "source": [
    "#LOAD Energy use data\n",
    "ENB2012_data= pd.read_csv('C:\\\\Users\\\\HP\\\\Downloads\\\\ENB2012_data.CSV')\n",
    "\n",
    "#weather use data\n",
    "seattle_weather= pd.read_csv('C:\\\\Users\\\\HP\\\\Downloads\\\\seattle_weather.CSV')\n",
    "\n",
    "# Load HVAC operational data\n",
    "rtu_ra_t = pd.read_csv('C:\\\\Users\\\\HP\\\\Downloads\\\\Bldg59_clean data\\\\rtu_ra_t.CSV')\n",
    "hp_hws_temp = pd.read_csv('C:\\\\Users\\\\HP\\\\Downloads\\\\Bldg59_clean data\\\\hp_hws_temp.CSV')\n",
    "rtu_sa_t_sp = pd.read_csv('C:\\\\Users\\\\HP\\\\Downloads\\\\Bldg59_clean data\\\\rtu_sa_t_sp.CSV')\n",
    "rtu_sa_t = pd.read_csv('C:\\\\Users\\\\HP\\\\Downloads\\\\Bldg59_clean data\\\\rtu_sa_t.CSV')\n",
    "rtu_ma_t = pd.read_csv('C:\\\\Users\\\\HP\\\\Downloads\\\\Bldg59_clean data\\\\rtu_ma_t.CSV')\n",
    "rtu_oa_t = pd.read_csv('C:\\\\Users\\\\HP\\\\Downloads\\\\Bldg59_clean data\\\\rtu_oa_t.CSV')\n",
    "rtu_sa_fr = pd.read_csv('C:\\\\Users\\\\HP\\\\Downloads\\\\Bldg59_clean data\\\\rtu_sa_fr.CSV')\n",
    "rtu_oa_fr = pd.read_csv('C:\\\\Users\\\\HP\\\\Downloads\\\\Bldg59_clean data\\\\rtu_oa_fr.CSV')\n",
    "rtu_oa_damper = pd.read_csv('C:\\\\Users\\\\HP\\\\Downloads\\\\Bldg59_clean data\\\\rtu_oa_damper.CSV')\n",
    "rtu_econ_sp = pd.read_csv('C:\\\\Users\\\\HP\\\\Downloads\\\\Bldg59_clean data\\\\rtu_econ_sp.CSV')\n",
    "rtu_sa_p_sp =pd.read_csv('C:\\\\Users\\\\HP\\\\Downloads\\\\Bldg59_clean data\\\\rtu_sa_p_sp.CSV')\n",
    "rtu_plenum_p = pd.read_csv('C:\\\\Users\\\\HP\\\\Downloads\\\\Bldg59_clean data\\\\rtu_plenum_p.CSV')\n",
    "rtu_fan_spd = pd.read_csv('C:\\\\Users\\\\HP\\\\Downloads\\\\Bldg59_clean data\\\\rtu_fan_spd.CSV')\n",
    "ashp_meter = pd.read_csv('C:\\\\Users\\\\HP\\\\Downloads\\\\Bldg59_clean data\\\\ashp_meter.CSV')\n",
    "ashp_cw = pd.read_csv('C:\\\\Users\\\\HP\\\\Downloads\\\\Bldg59_clean data\\\\ashp_cw.CSV')\n",
    "ashp_hw = pd.read_csv('C:\\\\Users\\\\HP\\\\Downloads\\\\Bldg59_clean data\\\\ashp_hw.CSV')\n",
    "uft_fan_spd = pd.read_csv('C:\\\\Users\\\\HP\\\\Downloads\\\\Bldg59_clean data\\\\uft_fan_spd.CSV')\n",
    "uft_hw_valve = pd.read_csv('C:\\\\Users\\\\HP\\\\Downloads\\\\Bldg59_clean data\\\\uft_hw_valve.CSV')"
   ]
  },
  {
   "cell_type": "code",
   "execution_count": 41,
   "id": "22efaa33",
   "metadata": {},
   "outputs": [
    {
     "data": {
      "text/html": [
       "<div>\n",
       "<style scoped>\n",
       "    .dataframe tbody tr th:only-of-type {\n",
       "        vertical-align: middle;\n",
       "    }\n",
       "\n",
       "    .dataframe tbody tr th {\n",
       "        vertical-align: top;\n",
       "    }\n",
       "\n",
       "    .dataframe thead th {\n",
       "        text-align: right;\n",
       "    }\n",
       "</style>\n",
       "<table border=\"1\" class=\"dataframe\">\n",
       "  <thead>\n",
       "    <tr style=\"text-align: right;\">\n",
       "      <th></th>\n",
       "      <th>date</th>\n",
       "      <th>precipitation</th>\n",
       "      <th>temp_max</th>\n",
       "      <th>temp_min</th>\n",
       "      <th>wind</th>\n",
       "      <th>weather</th>\n",
       "    </tr>\n",
       "  </thead>\n",
       "  <tbody>\n",
       "    <tr>\n",
       "      <th>0</th>\n",
       "      <td>True</td>\n",
       "      <td>0.0</td>\n",
       "      <td>12.8</td>\n",
       "      <td>5.0</td>\n",
       "      <td>4.7</td>\n",
       "      <td>drizzle</td>\n",
       "    </tr>\n",
       "    <tr>\n",
       "      <th>1</th>\n",
       "      <td>True</td>\n",
       "      <td>10.9</td>\n",
       "      <td>10.6</td>\n",
       "      <td>2.8</td>\n",
       "      <td>4.5</td>\n",
       "      <td>rain</td>\n",
       "    </tr>\n",
       "    <tr>\n",
       "      <th>2</th>\n",
       "      <td>True</td>\n",
       "      <td>0.8</td>\n",
       "      <td>11.7</td>\n",
       "      <td>7.2</td>\n",
       "      <td>2.3</td>\n",
       "      <td>rain</td>\n",
       "    </tr>\n",
       "    <tr>\n",
       "      <th>3</th>\n",
       "      <td>True</td>\n",
       "      <td>20.3</td>\n",
       "      <td>12.2</td>\n",
       "      <td>5.6</td>\n",
       "      <td>4.7</td>\n",
       "      <td>rain</td>\n",
       "    </tr>\n",
       "    <tr>\n",
       "      <th>4</th>\n",
       "      <td>True</td>\n",
       "      <td>1.3</td>\n",
       "      <td>8.9</td>\n",
       "      <td>2.8</td>\n",
       "      <td>6.1</td>\n",
       "      <td>rain</td>\n",
       "    </tr>\n",
       "  </tbody>\n",
       "</table>\n",
       "</div>"
      ],
      "text/plain": [
       "   date  precipitation  temp_max  temp_min  wind  weather\n",
       "0  True            0.0      12.8       5.0   4.7  drizzle\n",
       "1  True           10.9      10.6       2.8   4.5     rain\n",
       "2  True            0.8      11.7       7.2   2.3     rain\n",
       "3  True           20.3      12.2       5.6   4.7     rain\n",
       "4  True            1.3       8.9       2.8   6.1     rain"
      ]
     },
     "execution_count": 41,
     "metadata": {},
     "output_type": "execute_result"
    }
   ],
   "source": [
    "seattle_weather.head()"
   ]
  },
  {
   "cell_type": "code",
   "execution_count": 42,
   "id": "92820991",
   "metadata": {},
   "outputs": [],
   "source": [
    "# df['values'] = pd.to_numeric(df['values'], errors='coerce')\n",
    "ENB2012_data['date'] = pd.to_numeric(ENB2012_data['date'], errors='coerce').isna()\n",
    "seattle_weather['date'] = pd.to_numeric(seattle_weather['date'], errors='coerce').isna()\n",
    "\n",
    "seattle_weather['weather'] = pd.to_numeric(seattle_weather['weather'], errors='coerce').isna()"
   ]
  },
  {
   "cell_type": "code",
   "execution_count": 10,
   "id": "7ac1546b",
   "metadata": {},
   "outputs": [
    {
     "data": {
      "text/plain": [
       "(768, 11)"
      ]
     },
     "execution_count": 10,
     "metadata": {},
     "output_type": "execute_result"
    }
   ],
   "source": [
    "ENB2012_data.shape\n"
   ]
  },
  {
   "cell_type": "code",
   "execution_count": 11,
   "id": "9b7505cf",
   "metadata": {},
   "outputs": [
    {
     "data": {
      "text/plain": [
       "(1461, 6)"
      ]
     },
     "execution_count": 11,
     "metadata": {},
     "output_type": "execute_result"
    }
   ],
   "source": [
    "seattle_weather.shape"
   ]
  },
  {
   "cell_type": "code",
   "execution_count": 52,
   "id": "342e2bee",
   "metadata": {},
   "outputs": [
    {
     "name": "stdout",
     "output_type": "stream",
     "text": [
      "Mean Squared Error: 6.439909540795719e-31\n"
     ]
    },
    {
     "data": {
      "text/html": [
       "<style>#sk-container-id-2 {color: black;background-color: white;}#sk-container-id-2 pre{padding: 0;}#sk-container-id-2 div.sk-toggleable {background-color: white;}#sk-container-id-2 label.sk-toggleable__label {cursor: pointer;display: block;width: 100%;margin-bottom: 0;padding: 0.3em;box-sizing: border-box;text-align: center;}#sk-container-id-2 label.sk-toggleable__label-arrow:before {content: \"▸\";float: left;margin-right: 0.25em;color: #696969;}#sk-container-id-2 label.sk-toggleable__label-arrow:hover:before {color: black;}#sk-container-id-2 div.sk-estimator:hover label.sk-toggleable__label-arrow:before {color: black;}#sk-container-id-2 div.sk-toggleable__content {max-height: 0;max-width: 0;overflow: hidden;text-align: left;background-color: #f0f8ff;}#sk-container-id-2 div.sk-toggleable__content pre {margin: 0.2em;color: black;border-radius: 0.25em;background-color: #f0f8ff;}#sk-container-id-2 input.sk-toggleable__control:checked~div.sk-toggleable__content {max-height: 200px;max-width: 100%;overflow: auto;}#sk-container-id-2 input.sk-toggleable__control:checked~label.sk-toggleable__label-arrow:before {content: \"▾\";}#sk-container-id-2 div.sk-estimator input.sk-toggleable__control:checked~label.sk-toggleable__label {background-color: #d4ebff;}#sk-container-id-2 div.sk-label input.sk-toggleable__control:checked~label.sk-toggleable__label {background-color: #d4ebff;}#sk-container-id-2 input.sk-hidden--visually {border: 0;clip: rect(1px 1px 1px 1px);clip: rect(1px, 1px, 1px, 1px);height: 1px;margin: -1px;overflow: hidden;padding: 0;position: absolute;width: 1px;}#sk-container-id-2 div.sk-estimator {font-family: monospace;background-color: #f0f8ff;border: 1px dotted black;border-radius: 0.25em;box-sizing: border-box;margin-bottom: 0.5em;}#sk-container-id-2 div.sk-estimator:hover {background-color: #d4ebff;}#sk-container-id-2 div.sk-parallel-item::after {content: \"\";width: 100%;border-bottom: 1px solid gray;flex-grow: 1;}#sk-container-id-2 div.sk-label:hover label.sk-toggleable__label {background-color: #d4ebff;}#sk-container-id-2 div.sk-serial::before {content: \"\";position: absolute;border-left: 1px solid gray;box-sizing: border-box;top: 0;bottom: 0;left: 50%;z-index: 0;}#sk-container-id-2 div.sk-serial {display: flex;flex-direction: column;align-items: center;background-color: white;padding-right: 0.2em;padding-left: 0.2em;position: relative;}#sk-container-id-2 div.sk-item {position: relative;z-index: 1;}#sk-container-id-2 div.sk-parallel {display: flex;align-items: stretch;justify-content: center;background-color: white;position: relative;}#sk-container-id-2 div.sk-item::before, #sk-container-id-2 div.sk-parallel-item::before {content: \"\";position: absolute;border-left: 1px solid gray;box-sizing: border-box;top: 0;bottom: 0;left: 50%;z-index: -1;}#sk-container-id-2 div.sk-parallel-item {display: flex;flex-direction: column;z-index: 1;position: relative;background-color: white;}#sk-container-id-2 div.sk-parallel-item:first-child::after {align-self: flex-end;width: 50%;}#sk-container-id-2 div.sk-parallel-item:last-child::after {align-self: flex-start;width: 50%;}#sk-container-id-2 div.sk-parallel-item:only-child::after {width: 0;}#sk-container-id-2 div.sk-dashed-wrapped {border: 1px dashed gray;margin: 0 0.4em 0.5em 0.4em;box-sizing: border-box;padding-bottom: 0.4em;background-color: white;}#sk-container-id-2 div.sk-label label {font-family: monospace;font-weight: bold;display: inline-block;line-height: 1.2em;}#sk-container-id-2 div.sk-label-container {text-align: center;}#sk-container-id-2 div.sk-container {/* jupyter's `normalize.less` sets `[hidden] { display: none; }` but bootstrap.min.css set `[hidden] { display: none !important; }` so we also need the `!important` here to be able to override the default hidden behavior on the sphinx rendered scikit-learn.org. See: https://github.com/scikit-learn/scikit-learn/issues/21755 */display: inline-block !important;position: relative;}#sk-container-id-2 div.sk-text-repr-fallback {display: none;}</style><div id=\"sk-container-id-2\" class=\"sk-top-container\"><div class=\"sk-text-repr-fallback\"><pre>RandomForestRegressor(random_state=42)</pre><b>In a Jupyter environment, please rerun this cell to show the HTML representation or trust the notebook. <br />On GitHub, the HTML representation is unable to render, please try loading this page with nbviewer.org.</b></div><div class=\"sk-container\" hidden><div class=\"sk-item\"><div class=\"sk-estimator sk-toggleable\"><input class=\"sk-toggleable__control sk-hidden--visually\" id=\"sk-estimator-id-2\" type=\"checkbox\" checked><label for=\"sk-estimator-id-2\" class=\"sk-toggleable__label sk-toggleable__label-arrow\">RandomForestRegressor</label><div class=\"sk-toggleable__content\"><pre>RandomForestRegressor(random_state=42)</pre></div></div></div></div></div>"
      ],
      "text/plain": [
       "RandomForestRegressor(random_state=42)"
      ]
     },
     "execution_count": 52,
     "metadata": {},
     "output_type": "execute_result"
    }
   ],
   "source": [
    "# ashp_cw\n",
    "# \n",
    "# X =ENB2012_data.drop(columns=['X1'])\n",
    "# Y= ENB2012_data['X1'] np.matrix\n",
    "\n",
    "\n",
    "import numpy as np\n",
    "X=np.asarray(ENB2012_data['X1'])\n",
    "y=np.asarray(ENB2012_data['X1'])\n",
    "\n",
    "X = X.reshape(1,-1)\n",
    "\n",
    "# Split data into training and testing sets\n",
    "X_train, X_test, y_train, y_test = train_test_split( np.transpose (X), np.transpose(y), \n",
    "                                                    test_size=0.3, random_state=42)\n",
    "\n",
    "# Train machine learning model to predict energy consumption\n",
    "model = RandomForestRegressor(n_estimators=100, random_state=42)\n",
    "model.fit(X_train, y_train)\n",
    "\n",
    "#Evaluate model performance\n",
    "y_pred = model.predict(X_test)\n",
    "mse = mean_squared_error(y_test, y_pred)\n",
    "print(\"Mean Squared Error:\", mse)\n",
    "\n",
    "# Use trained model for predictive energy management\n",
    "# For example, predict energy consumption for the next day based on weather forecast and historical data\n",
    "#LOAD Energy use data\n",
    "# ele= pd.read_csv('C:\\\\Users\\\\HP\\\\Downloads\\\\Bldg59_clean data\\\\ele.CSV')\n",
    "#predicted_energy_consumption = model.predict(seattle_weather)\n",
    "\n",
    "\n",
    "model"
   ]
  },
  {
   "cell_type": "code",
   "execution_count": 58,
   "id": "4fd2dfd7",
   "metadata": {
    "scrolled": true
   },
   "outputs": [
    {
     "data": {
      "text/html": [
       "<div>\n",
       "<style scoped>\n",
       "    .dataframe tbody tr th:only-of-type {\n",
       "        vertical-align: middle;\n",
       "    }\n",
       "\n",
       "    .dataframe tbody tr th {\n",
       "        vertical-align: top;\n",
       "    }\n",
       "\n",
       "    .dataframe thead th {\n",
       "        text-align: right;\n",
       "    }\n",
       "</style>\n",
       "<table border=\"1\" class=\"dataframe\">\n",
       "  <thead>\n",
       "    <tr style=\"text-align: right;\">\n",
       "      <th></th>\n",
       "      <th>date</th>\n",
       "      <th>aru_001_cwr_temp</th>\n",
       "      <th>aru_001_cws_fr_gpm</th>\n",
       "      <th>aru_001_cws_temp</th>\n",
       "    </tr>\n",
       "  </thead>\n",
       "  <tbody>\n",
       "    <tr>\n",
       "      <th>0</th>\n",
       "      <td>8/1/20 7:00</td>\n",
       "      <td>63.05</td>\n",
       "      <td>80.20</td>\n",
       "      <td>63.08</td>\n",
       "    </tr>\n",
       "    <tr>\n",
       "      <th>1</th>\n",
       "      <td>8/1/20 7:05</td>\n",
       "      <td>63.08</td>\n",
       "      <td>80.66</td>\n",
       "      <td>63.17</td>\n",
       "    </tr>\n",
       "    <tr>\n",
       "      <th>2</th>\n",
       "      <td>8/1/20 7:10</td>\n",
       "      <td>58.91</td>\n",
       "      <td>79.90</td>\n",
       "      <td>63.17</td>\n",
       "    </tr>\n",
       "    <tr>\n",
       "      <th>3</th>\n",
       "      <td>8/1/20 7:15</td>\n",
       "      <td>63.05</td>\n",
       "      <td>80.42</td>\n",
       "      <td>63.11</td>\n",
       "    </tr>\n",
       "    <tr>\n",
       "      <th>4</th>\n",
       "      <td>8/1/20 7:20</td>\n",
       "      <td>62.86</td>\n",
       "      <td>79.22</td>\n",
       "      <td>62.92</td>\n",
       "    </tr>\n",
       "  </tbody>\n",
       "</table>\n",
       "</div>"
      ],
      "text/plain": [
       "          date  aru_001_cwr_temp  aru_001_cws_fr_gpm  aru_001_cws_temp\n",
       "0  8/1/20 7:00             63.05               80.20             63.08\n",
       "1  8/1/20 7:05             63.08               80.66             63.17\n",
       "2  8/1/20 7:10             58.91               79.90             63.17\n",
       "3  8/1/20 7:15             63.05               80.42             63.11\n",
       "4  8/1/20 7:20             62.86               79.22             62.92"
      ]
     },
     "execution_count": 58,
     "metadata": {},
     "output_type": "execute_result"
    }
   ],
   "source": [
    " ashp_cw.head()"
   ]
  },
  {
   "cell_type": "code",
   "execution_count": 74,
   "id": "25773f4e",
   "metadata": {},
   "outputs": [
    {
     "data": {
      "text/html": [
       "<div>\n",
       "<style scoped>\n",
       "    .dataframe tbody tr th:only-of-type {\n",
       "        vertical-align: middle;\n",
       "    }\n",
       "\n",
       "    .dataframe tbody tr th {\n",
       "        vertical-align: top;\n",
       "    }\n",
       "\n",
       "    .dataframe thead th {\n",
       "        text-align: right;\n",
       "    }\n",
       "</style>\n",
       "<table border=\"1\" class=\"dataframe\">\n",
       "  <thead>\n",
       "    <tr style=\"text-align: right;\">\n",
       "      <th></th>\n",
       "      <th>date</th>\n",
       "      <th>aru_001_hwr_temp</th>\n",
       "      <th>aru_001_hws_fr_gpm</th>\n",
       "      <th>aru_001_hws_temp</th>\n",
       "    </tr>\n",
       "  </thead>\n",
       "  <tbody>\n",
       "    <tr>\n",
       "      <th>0</th>\n",
       "      <td>2019-10-26 18:05:00</td>\n",
       "      <td>114.430000</td>\n",
       "      <td>61.74</td>\n",
       "      <td>125.000000</td>\n",
       "    </tr>\n",
       "    <tr>\n",
       "      <th>1</th>\n",
       "      <td>2019-10-26 18:10:00</td>\n",
       "      <td>118.932768</td>\n",
       "      <td>62.03</td>\n",
       "      <td>122.353189</td>\n",
       "    </tr>\n",
       "    <tr>\n",
       "      <th>2</th>\n",
       "      <td>2019-10-26 18:15:00</td>\n",
       "      <td>118.552146</td>\n",
       "      <td>61.91</td>\n",
       "      <td>121.445302</td>\n",
       "    </tr>\n",
       "    <tr>\n",
       "      <th>3</th>\n",
       "      <td>2019-10-26 18:20:00</td>\n",
       "      <td>118.788367</td>\n",
       "      <td>62.03</td>\n",
       "      <td>121.705841</td>\n",
       "    </tr>\n",
       "    <tr>\n",
       "      <th>4</th>\n",
       "      <td>2019-10-26 18:25:00</td>\n",
       "      <td>119.109104</td>\n",
       "      <td>61.91</td>\n",
       "      <td>122.015569</td>\n",
       "    </tr>\n",
       "  </tbody>\n",
       "</table>\n",
       "</div>"
      ],
      "text/plain": [
       "                  date  aru_001_hwr_temp  aru_001_hws_fr_gpm  aru_001_hws_temp\n",
       "0  2019-10-26 18:05:00        114.430000               61.74        125.000000\n",
       "1  2019-10-26 18:10:00        118.932768               62.03        122.353189\n",
       "2  2019-10-26 18:15:00        118.552146               61.91        121.445302\n",
       "3  2019-10-26 18:20:00        118.788367               62.03        121.705841\n",
       "4  2019-10-26 18:25:00        119.109104               61.91        122.015569"
      ]
     },
     "execution_count": 74,
     "metadata": {},
     "output_type": "execute_result"
    }
   ],
   "source": [
    "ashp_hw.head()"
   ]
  },
  {
   "cell_type": "code",
   "execution_count": 75,
   "id": "d1c22982",
   "metadata": {},
   "outputs": [],
   "source": [
    "ashp_cw['date'] = pd.to_numeric(ashp_cw['date'], errors='coerce').isna()\n",
    "ashp_hw['date'] = pd.to_numeric(ashp_hw['date'], errors='coerce').isna()"
   ]
  },
  {
   "cell_type": "code",
   "execution_count": 64,
   "id": "e0225ea8",
   "metadata": {
    "scrolled": true
   },
   "outputs": [
    {
     "name": "stdout",
     "output_type": "stream",
     "text": [
      "Mean Squared Error: 3.589664225272213\n"
     ]
    },
    {
     "data": {
      "text/html": [
       "<style>#sk-container-id-4 {color: black;background-color: white;}#sk-container-id-4 pre{padding: 0;}#sk-container-id-4 div.sk-toggleable {background-color: white;}#sk-container-id-4 label.sk-toggleable__label {cursor: pointer;display: block;width: 100%;margin-bottom: 0;padding: 0.3em;box-sizing: border-box;text-align: center;}#sk-container-id-4 label.sk-toggleable__label-arrow:before {content: \"▸\";float: left;margin-right: 0.25em;color: #696969;}#sk-container-id-4 label.sk-toggleable__label-arrow:hover:before {color: black;}#sk-container-id-4 div.sk-estimator:hover label.sk-toggleable__label-arrow:before {color: black;}#sk-container-id-4 div.sk-toggleable__content {max-height: 0;max-width: 0;overflow: hidden;text-align: left;background-color: #f0f8ff;}#sk-container-id-4 div.sk-toggleable__content pre {margin: 0.2em;color: black;border-radius: 0.25em;background-color: #f0f8ff;}#sk-container-id-4 input.sk-toggleable__control:checked~div.sk-toggleable__content {max-height: 200px;max-width: 100%;overflow: auto;}#sk-container-id-4 input.sk-toggleable__control:checked~label.sk-toggleable__label-arrow:before {content: \"▾\";}#sk-container-id-4 div.sk-estimator input.sk-toggleable__control:checked~label.sk-toggleable__label {background-color: #d4ebff;}#sk-container-id-4 div.sk-label input.sk-toggleable__control:checked~label.sk-toggleable__label {background-color: #d4ebff;}#sk-container-id-4 input.sk-hidden--visually {border: 0;clip: rect(1px 1px 1px 1px);clip: rect(1px, 1px, 1px, 1px);height: 1px;margin: -1px;overflow: hidden;padding: 0;position: absolute;width: 1px;}#sk-container-id-4 div.sk-estimator {font-family: monospace;background-color: #f0f8ff;border: 1px dotted black;border-radius: 0.25em;box-sizing: border-box;margin-bottom: 0.5em;}#sk-container-id-4 div.sk-estimator:hover {background-color: #d4ebff;}#sk-container-id-4 div.sk-parallel-item::after {content: \"\";width: 100%;border-bottom: 1px solid gray;flex-grow: 1;}#sk-container-id-4 div.sk-label:hover label.sk-toggleable__label {background-color: #d4ebff;}#sk-container-id-4 div.sk-serial::before {content: \"\";position: absolute;border-left: 1px solid gray;box-sizing: border-box;top: 0;bottom: 0;left: 50%;z-index: 0;}#sk-container-id-4 div.sk-serial {display: flex;flex-direction: column;align-items: center;background-color: white;padding-right: 0.2em;padding-left: 0.2em;position: relative;}#sk-container-id-4 div.sk-item {position: relative;z-index: 1;}#sk-container-id-4 div.sk-parallel {display: flex;align-items: stretch;justify-content: center;background-color: white;position: relative;}#sk-container-id-4 div.sk-item::before, #sk-container-id-4 div.sk-parallel-item::before {content: \"\";position: absolute;border-left: 1px solid gray;box-sizing: border-box;top: 0;bottom: 0;left: 50%;z-index: -1;}#sk-container-id-4 div.sk-parallel-item {display: flex;flex-direction: column;z-index: 1;position: relative;background-color: white;}#sk-container-id-4 div.sk-parallel-item:first-child::after {align-self: flex-end;width: 50%;}#sk-container-id-4 div.sk-parallel-item:last-child::after {align-self: flex-start;width: 50%;}#sk-container-id-4 div.sk-parallel-item:only-child::after {width: 0;}#sk-container-id-4 div.sk-dashed-wrapped {border: 1px dashed gray;margin: 0 0.4em 0.5em 0.4em;box-sizing: border-box;padding-bottom: 0.4em;background-color: white;}#sk-container-id-4 div.sk-label label {font-family: monospace;font-weight: bold;display: inline-block;line-height: 1.2em;}#sk-container-id-4 div.sk-label-container {text-align: center;}#sk-container-id-4 div.sk-container {/* jupyter's `normalize.less` sets `[hidden] { display: none; }` but bootstrap.min.css set `[hidden] { display: none !important; }` so we also need the `!important` here to be able to override the default hidden behavior on the sphinx rendered scikit-learn.org. See: https://github.com/scikit-learn/scikit-learn/issues/21755 */display: inline-block !important;position: relative;}#sk-container-id-4 div.sk-text-repr-fallback {display: none;}</style><div id=\"sk-container-id-4\" class=\"sk-top-container\"><div class=\"sk-text-repr-fallback\"><pre>RandomForestRegressor(random_state=42)</pre><b>In a Jupyter environment, please rerun this cell to show the HTML representation or trust the notebook. <br />On GitHub, the HTML representation is unable to render, please try loading this page with nbviewer.org.</b></div><div class=\"sk-container\" hidden><div class=\"sk-item\"><div class=\"sk-estimator sk-toggleable\"><input class=\"sk-toggleable__control sk-hidden--visually\" id=\"sk-estimator-id-4\" type=\"checkbox\" checked><label for=\"sk-estimator-id-4\" class=\"sk-toggleable__label sk-toggleable__label-arrow\">RandomForestRegressor</label><div class=\"sk-toggleable__content\"><pre>RandomForestRegressor(random_state=42)</pre></div></div></div></div></div>"
      ],
      "text/plain": [
       "RandomForestRegressor(random_state=42)"
      ]
     },
     "execution_count": 64,
     "metadata": {},
     "output_type": "execute_result"
    }
   ],
   "source": [
    "# ashp_cw\n",
    "# \n",
    "X = ashp_cw.drop(columns=['aru_001_cwr_temp'])\n",
    "y=  ashp_cw['aru_001_cwr_temp']\n",
    "\n",
    "# Split data into training and testing sets\n",
    "X_train, X_test, y_train, y_test = train_test_split(X,y, test_size=0.3, random_state=42)\n",
    "\n",
    "# Train machine learning model to predict energy consumption\n",
    "model = RandomForestRegressor(n_estimators=100, random_state=42)\n",
    "model.fit(X_train, y_train)\n",
    "\n",
    "#Evaluate model performance\n",
    "y_pred = model.predict(X_test)\n",
    "mse = mean_squared_error(y_test, y_pred)\n",
    "print(\"Mean Squared Error:\", mse)\n",
    "\n",
    "# Use trained model for predictive energy management\n",
    "# For example, predict energy consumption for the next day based on weather forecast and historical data\n",
    "\n",
    "#LOAD Energy use data\n",
    "# ele= pd.read_csv('C:\\\\Users\\\\HP\\\\Downloads\\\\Bldg59_clean data\\\\ele.CSV')\n",
    "#predicted_energy_consumption = model.predict(seattle_weather)\n",
    "\n",
    "\n",
    "model"
   ]
  },
  {
   "cell_type": "code",
   "execution_count": 65,
   "id": "79b73e33",
   "metadata": {},
   "outputs": [
    {
     "data": {
      "text/plain": [
       "0.9754223463002759"
      ]
     },
     "execution_count": 65,
     "metadata": {},
     "output_type": "execute_result"
    }
   ],
   "source": [
    "# Score model\n",
    "model.score(X_train, y_train)"
   ]
  },
  {
   "cell_type": "code",
   "execution_count": 76,
   "id": "358cc249",
   "metadata": {},
   "outputs": [],
   "source": [
    "# Split in data in to X and y\n",
    "\n",
    "X_train, y_train = ashp_cw.drop(\"aru_001_cwr_temp\", axis=1), ashp_cw.aru_001_cwr_temp\n",
    "X_valid, y_valid = ashp_hw.drop(\"aru_001_hwr_temp\", axis=1), ashp_hw.aru_001_hwr_temp"
   ]
  },
  {
   "cell_type": "code",
   "execution_count": 77,
   "id": "c2a4c57a",
   "metadata": {},
   "outputs": [
    {
     "data": {
      "text/plain": [
       "((43979, 3), (43979,), (124487, 3), (124487,))"
      ]
     },
     "execution_count": 77,
     "metadata": {},
     "output_type": "execute_result"
    }
   ],
   "source": [
    "X_train.shape, y_train.shape, X_valid.shape, y_valid.shape"
   ]
  },
  {
   "cell_type": "code",
   "execution_count": 66,
   "id": "ff35d26f",
   "metadata": {},
   "outputs": [],
   "source": [
    "import numpy as np"
   ]
  },
  {
   "cell_type": "code",
   "execution_count": 93,
   "id": "85692c69",
   "metadata": {},
   "outputs": [],
   "source": [
    "# Create evaluation function (the competition uses Root Mean Square Log Error)\n",
    "from sklearn.metrics import mean_squared_log_error, mean_absolute_error\n",
    "\n",
    "def rmsle(y_test, y_preds):\n",
    "    return np.sqrt(mean_squared_log_error(y_test, y_preds))\n",
    "\n",
    "# Create function to evaluate our model\n",
    "def show_scores(model):\n",
    "    train_preds = model.predict(X_train)\n",
    "    val_preds = model.predict(X_test)\n",
    "    scores = {\"Training MAE\": mean_absolute_error(y_train, train_preds),\n",
    "#               \"Valid MAE\": mean_absolute_error(y_valid, val_preds),\n",
    "              \"Training RMSLE\": rmsle(y_train, train_preds),\n",
    "#               \"Valid RMSLE\": rmsle(y_valid, val_preds),\n",
    "              \"Training R^2\": model.score(X_train, y_train),\n",
    "#               \"Valid R^2\": model.score(X_valid, y_valid)\n",
    "             }\n",
    "    return scores"
   ]
  },
  {
   "cell_type": "code",
   "execution_count": 86,
   "id": "decfa089",
   "metadata": {},
   "outputs": [
    {
     "data": {
      "text/plain": [
       "43979"
      ]
     },
     "execution_count": 86,
     "metadata": {},
     "output_type": "execute_result"
    }
   ],
   "source": [
    "len(X_train)"
   ]
  },
  {
   "cell_type": "code",
   "execution_count": 87,
   "id": "14bcfd47",
   "metadata": {},
   "outputs": [],
   "source": [
    "# Change max samples in RandomForestRegressor\n",
    "model = RandomForestRegressor(n_jobs=-1,random_state=42,max_samples=10000)"
   ]
  },
  {
   "cell_type": "code",
   "execution_count": 88,
   "id": "dd7e7fa9",
   "metadata": {},
   "outputs": [
    {
     "data": {
      "text/html": [
       "<style>#sk-container-id-6 {color: black;background-color: white;}#sk-container-id-6 pre{padding: 0;}#sk-container-id-6 div.sk-toggleable {background-color: white;}#sk-container-id-6 label.sk-toggleable__label {cursor: pointer;display: block;width: 100%;margin-bottom: 0;padding: 0.3em;box-sizing: border-box;text-align: center;}#sk-container-id-6 label.sk-toggleable__label-arrow:before {content: \"▸\";float: left;margin-right: 0.25em;color: #696969;}#sk-container-id-6 label.sk-toggleable__label-arrow:hover:before {color: black;}#sk-container-id-6 div.sk-estimator:hover label.sk-toggleable__label-arrow:before {color: black;}#sk-container-id-6 div.sk-toggleable__content {max-height: 0;max-width: 0;overflow: hidden;text-align: left;background-color: #f0f8ff;}#sk-container-id-6 div.sk-toggleable__content pre {margin: 0.2em;color: black;border-radius: 0.25em;background-color: #f0f8ff;}#sk-container-id-6 input.sk-toggleable__control:checked~div.sk-toggleable__content {max-height: 200px;max-width: 100%;overflow: auto;}#sk-container-id-6 input.sk-toggleable__control:checked~label.sk-toggleable__label-arrow:before {content: \"▾\";}#sk-container-id-6 div.sk-estimator input.sk-toggleable__control:checked~label.sk-toggleable__label {background-color: #d4ebff;}#sk-container-id-6 div.sk-label input.sk-toggleable__control:checked~label.sk-toggleable__label {background-color: #d4ebff;}#sk-container-id-6 input.sk-hidden--visually {border: 0;clip: rect(1px 1px 1px 1px);clip: rect(1px, 1px, 1px, 1px);height: 1px;margin: -1px;overflow: hidden;padding: 0;position: absolute;width: 1px;}#sk-container-id-6 div.sk-estimator {font-family: monospace;background-color: #f0f8ff;border: 1px dotted black;border-radius: 0.25em;box-sizing: border-box;margin-bottom: 0.5em;}#sk-container-id-6 div.sk-estimator:hover {background-color: #d4ebff;}#sk-container-id-6 div.sk-parallel-item::after {content: \"\";width: 100%;border-bottom: 1px solid gray;flex-grow: 1;}#sk-container-id-6 div.sk-label:hover label.sk-toggleable__label {background-color: #d4ebff;}#sk-container-id-6 div.sk-serial::before {content: \"\";position: absolute;border-left: 1px solid gray;box-sizing: border-box;top: 0;bottom: 0;left: 50%;z-index: 0;}#sk-container-id-6 div.sk-serial {display: flex;flex-direction: column;align-items: center;background-color: white;padding-right: 0.2em;padding-left: 0.2em;position: relative;}#sk-container-id-6 div.sk-item {position: relative;z-index: 1;}#sk-container-id-6 div.sk-parallel {display: flex;align-items: stretch;justify-content: center;background-color: white;position: relative;}#sk-container-id-6 div.sk-item::before, #sk-container-id-6 div.sk-parallel-item::before {content: \"\";position: absolute;border-left: 1px solid gray;box-sizing: border-box;top: 0;bottom: 0;left: 50%;z-index: -1;}#sk-container-id-6 div.sk-parallel-item {display: flex;flex-direction: column;z-index: 1;position: relative;background-color: white;}#sk-container-id-6 div.sk-parallel-item:first-child::after {align-self: flex-end;width: 50%;}#sk-container-id-6 div.sk-parallel-item:last-child::after {align-self: flex-start;width: 50%;}#sk-container-id-6 div.sk-parallel-item:only-child::after {width: 0;}#sk-container-id-6 div.sk-dashed-wrapped {border: 1px dashed gray;margin: 0 0.4em 0.5em 0.4em;box-sizing: border-box;padding-bottom: 0.4em;background-color: white;}#sk-container-id-6 div.sk-label label {font-family: monospace;font-weight: bold;display: inline-block;line-height: 1.2em;}#sk-container-id-6 div.sk-label-container {text-align: center;}#sk-container-id-6 div.sk-container {/* jupyter's `normalize.less` sets `[hidden] { display: none; }` but bootstrap.min.css set `[hidden] { display: none !important; }` so we also need the `!important` here to be able to override the default hidden behavior on the sphinx rendered scikit-learn.org. See: https://github.com/scikit-learn/scikit-learn/issues/21755 */display: inline-block !important;position: relative;}#sk-container-id-6 div.sk-text-repr-fallback {display: none;}</style><div id=\"sk-container-id-6\" class=\"sk-top-container\"><div class=\"sk-text-repr-fallback\"><pre>RandomForestRegressor(max_samples=10000, n_jobs=-1, random_state=42)</pre><b>In a Jupyter environment, please rerun this cell to show the HTML representation or trust the notebook. <br />On GitHub, the HTML representation is unable to render, please try loading this page with nbviewer.org.</b></div><div class=\"sk-container\" hidden><div class=\"sk-item\"><div class=\"sk-estimator sk-toggleable\"><input class=\"sk-toggleable__control sk-hidden--visually\" id=\"sk-estimator-id-6\" type=\"checkbox\" checked><label for=\"sk-estimator-id-6\" class=\"sk-toggleable__label sk-toggleable__label-arrow\">RandomForestRegressor</label><div class=\"sk-toggleable__content\"><pre>RandomForestRegressor(max_samples=10000, n_jobs=-1, random_state=42)</pre></div></div></div></div></div>"
      ],
      "text/plain": [
       "RandomForestRegressor(max_samples=10000, n_jobs=-1, random_state=42)"
      ]
     },
     "execution_count": 88,
     "metadata": {},
     "output_type": "execute_result"
    }
   ],
   "source": [
    "# Cutting down the max number of samples each tree can see improves training time\n",
    "model.fit(X_train, y_train)"
   ]
  },
  {
   "cell_type": "code",
   "execution_count": 94,
   "id": "bc1f9c63",
   "metadata": {},
   "outputs": [
    {
     "data": {
      "text/plain": [
       "{'Training MAE': 1.06460262859671,\n",
       " 'Training RMSLE': 0.025253728350726763,\n",
       " 'Training R^2': 0.946937017119161}"
      ]
     },
     "execution_count": 94,
     "metadata": {},
     "output_type": "execute_result"
    }
   ],
   "source": [
    "show_scores(model)"
   ]
  }
 ],
 "metadata": {
  "kernelspec": {
   "display_name": "Python 3 (ipykernel)",
   "language": "python",
   "name": "python3"
  },
  "language_info": {
   "codemirror_mode": {
    "name": "ipython",
    "version": 3
   },
   "file_extension": ".py",
   "mimetype": "text/x-python",
   "name": "python",
   "nbconvert_exporter": "python",
   "pygments_lexer": "ipython3",
   "version": "3.10.9"
  }
 },
 "nbformat": 4,
 "nbformat_minor": 5
}
